{
 "cells": [
  {
   "cell_type": "code",
   "execution_count": 1,
   "metadata": {},
   "outputs": [
    {
     "name": "stdout",
     "output_type": "stream",
     "text": [
      "load model\n"
     ]
    },
    {
     "name": "stderr",
     "output_type": "stream",
     "text": [
      "C:\\ProgramData\\Anaconda3\\lib\\site-packages\\sklearn\\base.py:311: UserWarning: Trying to unpickle estimator StandardScaler from version 0.19.0 when using version 0.19.1. This might lead to breaking code or invalid results. Use at your own risk.\n",
      "  UserWarning)\n",
      "C:\\ProgramData\\Anaconda3\\lib\\site-packages\\sklearn\\base.py:311: UserWarning: Trying to unpickle estimator LabelBinarizer from version 0.19.0 when using version 0.19.1. This might lead to breaking code or invalid results. Use at your own risk.\n",
      "  UserWarning)\n",
      "C:\\ProgramData\\Anaconda3\\lib\\site-packages\\sklearn\\base.py:311: UserWarning: Trying to unpickle estimator MLPClassifier from version 0.19.0 when using version 0.19.1. This might lead to breaking code or invalid results. Use at your own risk.\n",
      "  UserWarning)\n"
     ]
    }
   ],
   "source": [
    "from flask import Flask, request, jsonify\n",
    "from flask_cors import CORS\n",
    "from serve import get_model_api  # see part 1.\n",
    "import os\n",
    "from werkzeug import secure_filename\n"
   ]
  },
  {
   "cell_type": "code",
   "execution_count": null,
   "metadata": {},
   "outputs": [],
   "source": [
    "import sounddevice as sd"
   ]
  },
  {
   "cell_type": "code",
   "execution_count": 7,
   "metadata": {},
   "outputs": [],
   "source": [
    "import numpy as np\n",
    "import scipy.io.wavfile as wav\n",
    "import json"
   ]
  },
  {
   "cell_type": "code",
   "execution_count": 8,
   "metadata": {},
   "outputs": [],
   "source": [
    "class NumPyArangeEncoder(json.JSONEncoder):\n",
    "    def default(self, obj):\n",
    "        if isinstance(obj, np.ndarray):\n",
    "            return obj.tolist() # or map(int, obj)\n",
    "        return json.JSONEncoder.default(self, obj)"
   ]
  },
  {
   "cell_type": "code",
   "execution_count": 10,
   "metadata": {},
   "outputs": [
    {
     "name": "stdout",
     "output_type": "stream",
     "text": [
      "end of import\n",
      "load model\n",
      "end of define default route \n",
      "end of define main route \n"
     ]
    },
    {
     "name": "stderr",
     "output_type": "stream",
     "text": [
      "C:\\ProgramData\\Anaconda3\\lib\\site-packages\\sklearn\\base.py:311: UserWarning: Trying to unpickle estimator StandardScaler from version 0.19.0 when using version 0.19.1. This might lead to breaking code or invalid results. Use at your own risk.\n",
      "  UserWarning)\n",
      "C:\\ProgramData\\Anaconda3\\lib\\site-packages\\sklearn\\base.py:311: UserWarning: Trying to unpickle estimator LabelBinarizer from version 0.19.0 when using version 0.19.1. This might lead to breaking code or invalid results. Use at your own risk.\n",
      "  UserWarning)\n",
      "C:\\ProgramData\\Anaconda3\\lib\\site-packages\\sklearn\\base.py:311: UserWarning: Trying to unpickle estimator MLPClassifier from version 0.19.0 when using version 0.19.1. This might lead to breaking code or invalid results. Use at your own risk.\n",
      "  UserWarning)\n",
      " * Running on http://192.168.1.170:5000/ (Press CTRL+C to quit)\n"
     ]
    },
    {
     "name": "stdout",
     "output_type": "stream",
     "text": [
      "print fiile name \n",
      "uploads/6508-9-0-6.wav\n",
      "hello from model_api\n",
      "hello\n"
     ]
    },
    {
     "name": "stderr",
     "output_type": "stream",
     "text": [
      "192.168.1.170 - - [10/Jun/2018 22:29:04] \"POST /api HTTP/1.1\" 200 -\n"
     ]
    },
    {
     "name": "stdout",
     "output_type": "stream",
     "text": [
      "the out\n",
      "[2 2 3 3 3 3 3 3 3 4 3 2 5 3 3 3 3 3 3 3 3 3 3 3 2 2 2 3 2 3 9 9 9 3 3 3 2\n",
      " 2 3 2 2 3 3 3 3 3 3 3 3 3 2 2 2 2 2 3 3 3 3 5 5 3 2 2 2 2 3 3 2 2 2 3 2 5\n",
      " 3 3 3 3 3 3 3 3 3 3 2 3 8 3 2 3 3 3 3 3 3 2 3 8 3 8 3 3 3 2 8 3 3 3 2 2 3\n",
      " 8 8 8 2 3 8 8 8 3 3 3 3 3 3 2 2 8 8 3 3 8 8 3 3 3 3 3 3 3 3 3 3 3 3 3 3 3\n",
      " 3 3 3 3 3 3 3 3 3 3 3 3 3 8 8 3 3 3 2 2 9 2 2 2 2]\n",
      "end\n"
     ]
    }
   ],
   "source": [
    "print(\"end of import\")\n",
    "app = Flask(__name__)\n",
    "CORS(app) # needed for cross-domain requests, allow everything by default\n",
    "model_api = get_model_api()\n",
    "# default route\n",
    "@app.route('/')\n",
    "def index():\n",
    "    return \"Index API\"\n",
    "\n",
    "# HTTP Errors handlers\n",
    "@app.errorhandler(404)\n",
    "def url_error(e):\n",
    "    return \"\"\"\n",
    "    Wrong URL!\n",
    "    <pre>{}</pre>\"\"\".format(e), 404\n",
    "\n",
    "@app.errorhandler(500)\n",
    "def server_error(e):\n",
    "    return \"\"\"\n",
    "    An internal error occurred: <pre>{}</pre>\n",
    "    See logs for full stacktrace.\n",
    "    \"\"\".format(e), 500\n",
    "\n",
    "print(\"end of define default route \")\n",
    "#UPLOAD_FOLDER='C:/Users/acer/Desktop/app/'\n",
    "UPLOAD_FOLDER='uploads/'\n",
    "# API route\n",
    "@app.route('/api', methods=['POST','GET'])\n",
    "def api():\n",
    "    \n",
    "    if request.method == 'POST':\n",
    "        #upload_file = request.files['file']\n",
    "        #filename = secure_filename(upload_file.filename)\n",
    "        #print(filename)\n",
    "        #upload_file.save(os.path.join(UPLOAD_FOLDER, filename))\n",
    "\n",
    "        upload_file = request.files['file']\n",
    "        filename = secure_filename(upload_file.filename)\n",
    "        print(\"print fiile name \")\n",
    "        new_file = UPLOAD_FOLDER+filename\n",
    "        print(new_file)\n",
    "        upload_file.save(new_file)\n",
    "        #input_data = request.json\n",
    "        #print(input_data)\n",
    "        #app.logger.info(\"api_input: \" + str(filename))\n",
    "        output_data = model_api(os.path.join(UPLOAD_FOLDER, filename))\n",
    "        print(\"the out\")\n",
    "        print(output_data)\n",
    "        app.logger.info(\"api_output: \" + str(output_data))\n",
    "        response = jsonify(str(output_data))\n",
    "        out={\n",
    "            \"first\": json.dumps(output_data, cls=NumPyArangeEncoder)\n",
    "        }\n",
    "        return jsonify(out)\n",
    "    return  '''\n",
    "    <!doctype html>\n",
    "    <html lang=\"en\">\n",
    "    <head>\n",
    "      <title>Running my first AI Demo</title>\n",
    "    </head>\n",
    "    <body>\n",
    "    <div class=\"site-wrapper\">\n",
    "        <div class=\"cover-container\">\n",
    "            <nav id=\"main\">\n",
    "                <a href=\"http://localhost:5000/demo\" >HOME</a>\n",
    "            </nav>\n",
    "          <div class=\"inner cover\">\n",
    "          </div>\n",
    "          <div class=\"mastfoot\">\n",
    "          <hr />\n",
    "            <div class=\"container\">\n",
    "              <div style=\"margin-top:5%\">\n",
    "                    <h1 style=\"color:black\">Sound Classification Demo</h1>\n",
    "                    <h4 style=\"color:black\">Upload new Sound </h4>\n",
    "                    <form method=post enctype=multipart/form-data>\n",
    "                     <p><input type=file name=file>\n",
    "                    <input type=submit style=\"color:black;\" value=Record>\n",
    "                    </form>\n",
    "                </div>\n",
    "            </div>\n",
    "            </div>\n",
    "     </div>\n",
    "   </div>\n",
    "</body>\n",
    "</html>\n",
    "    '''\n",
    "\n",
    "print(\"end of define main route \")\n",
    "\n",
    "if __name__ == '__main__':\n",
    "    app.run(host='192.168.1.170')\n",
    "    #app.run( )\n",
    "\n",
    "print(\"end\")"
   ]
  },
  {
   "cell_type": "code",
   "execution_count": null,
   "metadata": {},
   "outputs": [],
   "source": []
  },
  {
   "cell_type": "code",
   "execution_count": null,
   "metadata": {},
   "outputs": [],
   "source": []
  }
 ],
 "metadata": {
  "kernelspec": {
   "display_name": "Python 3",
   "language": "python",
   "name": "python3"
  },
  "language_info": {
   "codemirror_mode": {
    "name": "ipython",
    "version": 3
   },
   "file_extension": ".py",
   "mimetype": "text/x-python",
   "name": "python",
   "nbconvert_exporter": "python",
   "pygments_lexer": "ipython3",
   "version": "3.6.4"
  }
 },
 "nbformat": 4,
 "nbformat_minor": 2
}
