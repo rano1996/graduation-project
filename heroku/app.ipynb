{
 "cells": [
  {
   "cell_type": "code",
   "execution_count": 2,
   "metadata": {},
   "outputs": [
    {
     "name": "stdout",
     "output_type": "stream",
     "text": [
      "load model\n"
     ]
    },
    {
     "name": "stderr",
     "output_type": "stream",
     "text": [
      "C:\\ProgramData\\Anaconda3\\lib\\site-packages\\sklearn\\base.py:311: UserWarning: Trying to unpickle estimator StandardScaler from version 0.19.0 when using version 0.19.1. This might lead to breaking code or invalid results. Use at your own risk.\n",
      "  UserWarning)\n",
      "C:\\ProgramData\\Anaconda3\\lib\\site-packages\\sklearn\\base.py:311: UserWarning: Trying to unpickle estimator LabelBinarizer from version 0.19.0 when using version 0.19.1. This might lead to breaking code or invalid results. Use at your own risk.\n",
      "  UserWarning)\n",
      "C:\\ProgramData\\Anaconda3\\lib\\site-packages\\sklearn\\base.py:311: UserWarning: Trying to unpickle estimator MLPClassifier from version 0.19.0 when using version 0.19.1. This might lead to breaking code or invalid results. Use at your own risk.\n",
      "  UserWarning)\n",
      "C:\\ProgramData\\Anaconda3\\lib\\site-packages\\pydub\\utils.py:174: RuntimeWarning: Couldn't find ffmpeg or avconv - defaulting to ffmpeg, but may not work\n",
      "  warn(\"Couldn't find ffmpeg or avconv - defaulting to ffmpeg, but may not work\", RuntimeWarning)\n"
     ]
    }
   ],
   "source": [
    "from flask import Flask, request, jsonify\n",
    "from flask_cors import CORS\n",
    "from serve import get_model_api  # see part 1.\n",
    "import os\n",
    "from werkzeug import secure_filename\n",
    "import sys\n",
    "import json\n",
    "import warnings\n",
    "import argparse\n",
    "from dejavu import Dejavu\n",
    "from dejavu.recognize import FileRecognizer\n",
    "from argparse import RawTextHelpFormatter"
   ]
  },
  {
   "cell_type": "code",
   "execution_count": 3,
   "metadata": {},
   "outputs": [
    {
     "name": "stderr",
     "output_type": "stream",
     "text": [
      "C:\\Users\\ranop\\Desktop\\5thyear\\graduationproject\\learning\\heroku\\appv7\\heroku\\dejavu\\database_sql.py:160: Warning: (1050, \"Table 'songs' already exists\")\n",
      "  cur.execute(self.CREATE_SONGS_TABLE)\n",
      "C:\\Users\\ranop\\Desktop\\5thyear\\graduationproject\\learning\\heroku\\appv7\\heroku\\dejavu\\database_sql.py:161: Warning: (1050, \"Table 'fingerprints' already exists\")\n",
      "  cur.execute(self.CREATE_FINGERPRINTS_TABLE)\n"
     ]
    }
   ],
   "source": [
    "import numpy as np\n",
    "import scipy.io.wavfile as wav\n",
    "import json\n",
    "#configuration of connecting to database\n",
    "config = {\n",
    "     \"database\": {\n",
    "         \"host\": \"127.0.0.1\",\n",
    "         \"user\": \"root\",\n",
    "         \"passwd\": \"\",\n",
    "         \"db\": \"dejavu\"\n",
    "     },\n",
    "     \"fingerprint_limit\" : 35\n",
    " }\n",
    "#conecting to database \n",
    "djv = Dejavu(config)"
   ]
  },
  {
   "cell_type": "code",
   "execution_count": 8,
   "metadata": {},
   "outputs": [],
   "source": [
    "class NumPyArangeEncoder(json.JSONEncoder):\n",
    "    def default(self, obj):\n",
    "        if isinstance(obj, np.ndarray):\n",
    "            return obj.tolist() # or map(int, obj)\n",
    "        return json.JSONEncoder.default(self, obj)"
   ]
  },
  {
   "cell_type": "code",
   "execution_count": 6,
   "metadata": {},
   "outputs": [
    {
     "name": "stdout",
     "output_type": "stream",
     "text": [
      "end of import\n",
      "load model\n",
      "end of define default route \n",
      "end of define main route \n"
     ]
    },
    {
     "name": "stderr",
     "output_type": "stream",
     "text": [
      "C:\\ProgramData\\Anaconda3\\lib\\site-packages\\sklearn\\base.py:311: UserWarning: Trying to unpickle estimator StandardScaler from version 0.19.0 when using version 0.19.1. This might lead to breaking code or invalid results. Use at your own risk.\n",
      "  UserWarning)\n",
      "C:\\ProgramData\\Anaconda3\\lib\\site-packages\\sklearn\\base.py:311: UserWarning: Trying to unpickle estimator LabelBinarizer from version 0.19.0 when using version 0.19.1. This might lead to breaking code or invalid results. Use at your own risk.\n",
      "  UserWarning)\n",
      "C:\\ProgramData\\Anaconda3\\lib\\site-packages\\sklearn\\base.py:311: UserWarning: Trying to unpickle estimator MLPClassifier from version 0.19.0 when using version 0.19.1. This might lead to breaking code or invalid results. Use at your own risk.\n",
      "  UserWarning)\n"
     ]
    },
    {
     "ename": "UnsupportedOperation",
     "evalue": "not writable",
     "output_type": "error",
     "traceback": [
      "\u001b[1;31m---------------------------------------------------------------------------\u001b[0m",
      "\u001b[1;31mUnsupportedOperation\u001b[0m                      Traceback (most recent call last)",
      "\u001b[1;32m<ipython-input-6-c0e663a56a64>\u001b[0m in \u001b[0;36m<module>\u001b[1;34m()\u001b[0m\n\u001b[0;32m    104\u001b[0m \u001b[1;33m\u001b[0m\u001b[0m\n\u001b[0;32m    105\u001b[0m \u001b[1;32mif\u001b[0m \u001b[0m__name__\u001b[0m \u001b[1;33m==\u001b[0m \u001b[1;34m'__main__'\u001b[0m\u001b[1;33m:\u001b[0m\u001b[1;33m\u001b[0m\u001b[0m\n\u001b[1;32m--> 106\u001b[1;33m     \u001b[0mapp\u001b[0m\u001b[1;33m.\u001b[0m\u001b[0mrun\u001b[0m\u001b[1;33m(\u001b[0m\u001b[0mhost\u001b[0m\u001b[1;33m=\u001b[0m\u001b[1;34m'192.168.1.170'\u001b[0m\u001b[1;33m)\u001b[0m\u001b[1;33m\u001b[0m\u001b[0m\n\u001b[0m\u001b[0;32m    107\u001b[0m     \u001b[1;31m#app.run( )\u001b[0m\u001b[1;33m\u001b[0m\u001b[1;33m\u001b[0m\u001b[0m\n\u001b[0;32m    108\u001b[0m \u001b[1;33m\u001b[0m\u001b[0m\n",
      "\u001b[1;32mC:\\ProgramData\\Anaconda3\\lib\\site-packages\\flask\\app.py\u001b[0m in \u001b[0;36mrun\u001b[1;34m(self, host, port, debug, load_dotenv, **options)\u001b[0m\n\u001b[0;32m    936\u001b[0m         \u001b[0moptions\u001b[0m\u001b[1;33m.\u001b[0m\u001b[0msetdefault\u001b[0m\u001b[1;33m(\u001b[0m\u001b[1;34m'threaded'\u001b[0m\u001b[1;33m,\u001b[0m \u001b[1;32mTrue\u001b[0m\u001b[1;33m)\u001b[0m\u001b[1;33m\u001b[0m\u001b[0m\n\u001b[0;32m    937\u001b[0m \u001b[1;33m\u001b[0m\u001b[0m\n\u001b[1;32m--> 938\u001b[1;33m         \u001b[0mcli\u001b[0m\u001b[1;33m.\u001b[0m\u001b[0mshow_server_banner\u001b[0m\u001b[1;33m(\u001b[0m\u001b[0mself\u001b[0m\u001b[1;33m.\u001b[0m\u001b[0menv\u001b[0m\u001b[1;33m,\u001b[0m \u001b[0mself\u001b[0m\u001b[1;33m.\u001b[0m\u001b[0mdebug\u001b[0m\u001b[1;33m,\u001b[0m \u001b[0mself\u001b[0m\u001b[1;33m.\u001b[0m\u001b[0mname\u001b[0m\u001b[1;33m,\u001b[0m \u001b[1;32mFalse\u001b[0m\u001b[1;33m)\u001b[0m\u001b[1;33m\u001b[0m\u001b[0m\n\u001b[0m\u001b[0;32m    939\u001b[0m \u001b[1;33m\u001b[0m\u001b[0m\n\u001b[0;32m    940\u001b[0m         \u001b[1;32mfrom\u001b[0m \u001b[0mwerkzeug\u001b[0m\u001b[1;33m.\u001b[0m\u001b[0mserving\u001b[0m \u001b[1;32mimport\u001b[0m \u001b[0mrun_simple\u001b[0m\u001b[1;33m\u001b[0m\u001b[0m\n",
      "\u001b[1;32mC:\\ProgramData\\Anaconda3\\lib\\site-packages\\flask\\cli.py\u001b[0m in \u001b[0;36mshow_server_banner\u001b[1;34m(env, debug, app_import_path, eager_loading)\u001b[0m\n\u001b[0;32m    627\u001b[0m             \u001b[0mmessage\u001b[0m \u001b[1;33m+=\u001b[0m \u001b[1;34m' (lazy loading)'\u001b[0m\u001b[1;33m\u001b[0m\u001b[0m\n\u001b[0;32m    628\u001b[0m \u001b[1;33m\u001b[0m\u001b[0m\n\u001b[1;32m--> 629\u001b[1;33m         \u001b[0mclick\u001b[0m\u001b[1;33m.\u001b[0m\u001b[0mecho\u001b[0m\u001b[1;33m(\u001b[0m\u001b[0mmessage\u001b[0m\u001b[1;33m)\u001b[0m\u001b[1;33m\u001b[0m\u001b[0m\n\u001b[0m\u001b[0;32m    630\u001b[0m \u001b[1;33m\u001b[0m\u001b[0m\n\u001b[0;32m    631\u001b[0m     \u001b[0mclick\u001b[0m\u001b[1;33m.\u001b[0m\u001b[0mecho\u001b[0m\u001b[1;33m(\u001b[0m\u001b[1;34m' * Environment: {0}'\u001b[0m\u001b[1;33m.\u001b[0m\u001b[0mformat\u001b[0m\u001b[1;33m(\u001b[0m\u001b[0menv\u001b[0m\u001b[1;33m)\u001b[0m\u001b[1;33m)\u001b[0m\u001b[1;33m\u001b[0m\u001b[0m\n",
      "\u001b[1;32mC:\\ProgramData\\Anaconda3\\lib\\site-packages\\click\\utils.py\u001b[0m in \u001b[0;36mecho\u001b[1;34m(message, file, nl, err, color)\u001b[0m\n\u001b[0;32m    257\u001b[0m \u001b[1;33m\u001b[0m\u001b[0m\n\u001b[0;32m    258\u001b[0m     \u001b[1;32mif\u001b[0m \u001b[0mmessage\u001b[0m\u001b[1;33m:\u001b[0m\u001b[1;33m\u001b[0m\u001b[0m\n\u001b[1;32m--> 259\u001b[1;33m         \u001b[0mfile\u001b[0m\u001b[1;33m.\u001b[0m\u001b[0mwrite\u001b[0m\u001b[1;33m(\u001b[0m\u001b[0mmessage\u001b[0m\u001b[1;33m)\u001b[0m\u001b[1;33m\u001b[0m\u001b[0m\n\u001b[0m\u001b[0;32m    260\u001b[0m     \u001b[0mfile\u001b[0m\u001b[1;33m.\u001b[0m\u001b[0mflush\u001b[0m\u001b[1;33m(\u001b[0m\u001b[1;33m)\u001b[0m\u001b[1;33m\u001b[0m\u001b[0m\n\u001b[0;32m    261\u001b[0m \u001b[1;33m\u001b[0m\u001b[0m\n",
      "\u001b[1;31mUnsupportedOperation\u001b[0m: not writable"
     ]
    }
   ],
   "source": [
    "print(\"end of import\")\n",
    "app = Flask(__name__)\n",
    "CORS(app) # needed for cross-domain requests, allow everything by default\n",
    "model_api = get_model_api()\n",
    "# default route\n",
    "@app.route('/')\n",
    "def index():\n",
    "    return \"Index API\"\n",
    "\n",
    "# HTTP Errors handlers\n",
    "@app.errorhandler(404)\n",
    "def url_error(e):\n",
    "    return \"\"\"\n",
    "    Wrong URL!\n",
    "    <pre>{}</pre>\"\"\".format(e), 404\n",
    "\n",
    "@app.errorhandler(500)\n",
    "def server_error(e):\n",
    "    return \"\"\"\n",
    "    An internal error occurred: <pre>{}</pre>\n",
    "    See logs for full stacktrace.\n",
    "    \"\"\".format(e), 500\n",
    "\n",
    "@app.route('/add', methods=['POST','GET'])\n",
    "def add():\n",
    "    \n",
    "    if request.method == 'POST':\n",
    "        upload_file = request.files['file']\n",
    "        filename = secure_filename(upload_file.filename)\n",
    "        print(\"print fiile name \")\n",
    "        new_file = UPLOAD_FOLDER+filename\n",
    "        print(new_file)\n",
    "        upload_file.save(new_file)\n",
    "        djv.fingerprint_directory(os.path.join(UPLOAD_FOLDER, filename), [\".wav\"], 3)\n",
    "    return True\n",
    "print(\"end of define default route \")\n",
    "#UPLOAD_FOLDER='C:/Users/acer/Desktop/app/'\n",
    "UPLOAD_FOLDER='uploads/'\n",
    "# API route\n",
    "@app.route('/api', methods=['POST','GET'])\n",
    "def api():\n",
    "    \n",
    "    if request.method == 'POST':\n",
    "        #upload_file = request.files['file']\n",
    "        #filename = secure_filename(upload_file.filename)\n",
    "        #print(filename)\n",
    "        #upload_file.save(os.path.join(UPLOAD_FOLDER, filename))\n",
    "\n",
    "        upload_file = request.files['file']\n",
    "        filename = secure_filename(upload_file.filename)\n",
    "        print(\"print fiile name \")\n",
    "        new_file = UPLOAD_FOLDER+filename\n",
    "        print(new_file)\n",
    "        upload_file.save(new_file)\n",
    "        #input_data = request.json\n",
    "        #print(input_data)\n",
    "        #app.logger.info(\"api_input: \" + str(filename))\n",
    "        output_data = model_api(os.path.join(UPLOAD_FOLDER, filename))\n",
    "        song = djv.recognize(FileRecognizer,os.path.join(UPLOAD_FOLDER, filename) )\n",
    "        print(song)\n",
    "        print(\"the out\")\n",
    "        print(output_data)\n",
    "        app.logger.info(\"api_output: \" + str(output_data))\n",
    "        response = jsonify(str(output_data))\n",
    "        out={\n",
    "            \"classification\": json.dumps(output_data, cls=NumPyArangeEncoder),\n",
    "            \"fingerprint\": json.dumps(song, cls=NumPyArangeEncoder)\n",
    "        }\n",
    "        return jsonify(out)\n",
    "    return  '''\n",
    "    <!doctype html>\n",
    "    <html lang=\"en\">\n",
    "    <head>\n",
    "      <title>Running my first AI Demo</title>\n",
    "    </head>\n",
    "    <body>\n",
    "    <div class=\"site-wrapper\">\n",
    "        <div class=\"cover-container\">\n",
    "            <nav id=\"main\">\n",
    "                <a href=\"http://localhost:5000/demo\" >HOME</a>\n",
    "            </nav>\n",
    "          <div class=\"inner cover\">\n",
    "          </div>\n",
    "          <div class=\"mastfoot\">\n",
    "          <hr />\n",
    "            <div class=\"container\">\n",
    "              <div style=\"margin-top:5%\">\n",
    "                    <h1 style=\"color:black\">Sound Classification Demo</h1>\n",
    "                    <h4 style=\"color:black\">Upload new Sound </h4>\n",
    "                    <form method=post enctype=multipart/form-data>\n",
    "                     <p><input type=file name=file>\n",
    "                    <input type=submit style=\"color:black;\" value=Record>\n",
    "                    </form>\n",
    "                </div>\n",
    "            </div>\n",
    "            </div>\n",
    "     </div>\n",
    "   </div>\n",
    "</body>\n",
    "</html>\n",
    "    '''\n",
    "\n",
    "print(\"end of define main route \")\n",
    "\n",
    "if __name__ == '__main__':\n",
    "    app.run(host='192.168.1.170')\n",
    "    #app.run( )\n",
    "\n",
    "print(\"end\")"
   ]
  },
  {
   "cell_type": "code",
   "execution_count": null,
   "metadata": {},
   "outputs": [],
   "source": []
  },
  {
   "cell_type": "code",
   "execution_count": null,
   "metadata": {},
   "outputs": [],
   "source": []
  }
 ],
 "metadata": {
  "kernelspec": {
   "display_name": "Python 3",
   "language": "python",
   "name": "python3"
  },
  "language_info": {
   "codemirror_mode": {
    "name": "ipython",
    "version": 3
   },
   "file_extension": ".py",
   "mimetype": "text/x-python",
   "name": "python",
   "nbconvert_exporter": "python",
   "pygments_lexer": "ipython3",
   "version": "3.6.5"
  }
 },
 "nbformat": 4,
 "nbformat_minor": 2
}
