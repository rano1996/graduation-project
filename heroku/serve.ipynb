{
 "cells": [
  {
   "cell_type": "code",
   "execution_count": 5,
   "metadata": {},
   "outputs": [],
   "source": [
    "import librosa\n",
    "import numpy as np\n",
    "import pickle\n",
    "import os\n",
    "import glob"
   ]
  },
  {
   "cell_type": "code",
   "execution_count": 6,
   "metadata": {},
   "outputs": [],
   "source": [
    "\n",
    "def extract_features(file_name):\n",
    "    print(\"hello\")\n",
    "    features, labels, name = np.empty((0,161)), np.empty(0), np.empty(0)\n",
    "    #X, sample_rate = librosa.load(file_name)\n",
    "    X=file_name\n",
    "    sample_rate=44100\n",
    "    stft = np.abs(np.ndarray(librosa.stft(X)))\n",
    "    mfccs = np.array(librosa.feature.mfcc(y=X, sr=sample_rate, n_mfcc=8).T)\n",
    "    chroma = np.array(librosa.feature.chroma_stft(S=stft, sr=sample_rate).T)\n",
    "    mel = np.array(librosa.feature.melspectrogram(X, sr=sample_rate).T)\n",
    "    contrast = np.array(librosa.feature.spectral_contrast(S=stft, sr=sample_rate).T)\n",
    "    tonnetz = np.array(librosa.feature.tonnetz(y=librosa.effects.harmonic(X), sr=sample_rate).T)\n",
    "    ext_features = np.hstack([mfccs,chroma,mel,contrast,tonnetz])\n",
    "    features = np.vstack([features,ext_features])\n",
    "    return features"
   ]
  },
  {
   "cell_type": "code",
   "execution_count": 7,
   "metadata": {},
   "outputs": [],
   "source": [
    "def get_model_api():\n",
    "    \"\"\"Returns lambda function for api\"\"\"\n",
    "    # 1. initialize model once and for all and reload weights\n",
    "    print(\"load model\")  \n",
    "    with open('res_model.pkl', 'rb') as fin:\n",
    "        sc, clf = pickle.load(fin)\n",
    "\n",
    "\n",
    "    def model_api(input_data):\n",
    "        print(\"hello from model_api\")\n",
    "        # 2. process input with simple tokenization and no punctuation\n",
    "        new_samples = extract_features(input_data)\n",
    "        #print(new_samples.shape)\n",
    "        X_new = sc.transform(new_samples)\n",
    "        # 3. call model predict function\n",
    "        X_new_preds = clf.predict(X_new)\n",
    "        # 4. process the output\n",
    "        # 5. return the output for the api\n",
    "    \n",
    "        return X_new_preds\n",
    "    return model_api"
   ]
  },
  {
   "cell_type": "code",
   "execution_count": 8,
   "metadata": {},
   "outputs": [
    {
     "name": "stdout",
     "output_type": "stream",
     "text": [
      "load model\n"
     ]
    },
    {
     "name": "stderr",
     "output_type": "stream",
     "text": [
      "D:\\anaconda2\\lib\\site-packages\\sklearn\\base.py:311: UserWarning: Trying to unpickle estimator StandardScaler from version 0.19.0 when using version 0.19.1. This might lead to breaking code or invalid results. Use at your own risk.\n",
      "  UserWarning)\n",
      "D:\\anaconda2\\lib\\site-packages\\sklearn\\base.py:311: UserWarning: Trying to unpickle estimator LabelBinarizer from version 0.19.0 when using version 0.19.1. This might lead to breaking code or invalid results. Use at your own risk.\n",
      "  UserWarning)\n",
      "D:\\anaconda2\\lib\\site-packages\\sklearn\\base.py:311: UserWarning: Trying to unpickle estimator MLPClassifier from version 0.19.0 when using version 0.19.1. This might lead to breaking code or invalid results. Use at your own risk.\n",
      "  UserWarning)\n"
     ]
    }
   ],
   "source": [
    " print(\"load model\")  \n",
    "with open('res_model.pkl', 'rb') as fin:\n",
    "    sc, clf = pickle.load(fin)"
   ]
  },
  {
   "cell_type": "code",
   "execution_count": 9,
   "metadata": {},
   "outputs": [],
   "source": [
    "def model_api(input_data):\n",
    "    print(\"hello from model_api\")\n",
    "    # 2. process input with simple tokenization and no punctuation\n",
    "    new_samples = extract_features(input_data)\n",
    "    #print(new_samples.shape)\n",
    "    X_new = sc.transform(new_samples)\n",
    "    # 3. call model predict function\n",
    "    X_new_preds = clf.predict(X_new)\n",
    "    # 4. process the output\n",
    "    # 5. return the output for the api\n",
    "    \n",
    "    return X_new_preds"
   ]
  },
  {
   "cell_type": "code",
   "execution_count": null,
   "metadata": {},
   "outputs": [],
   "source": []
  },
  {
   "cell_type": "code",
   "execution_count": null,
   "metadata": {},
   "outputs": [],
   "source": []
  }
 ],
 "metadata": {
  "kernelspec": {
   "display_name": "Python 3",
   "language": "python",
   "name": "python3"
  },
  "language_info": {
   "codemirror_mode": {
    "name": "ipython",
    "version": 3
   },
   "file_extension": ".py",
   "mimetype": "text/x-python",
   "name": "python",
   "nbconvert_exporter": "python",
   "pygments_lexer": "ipython3",
   "version": "3.6.4"
  }
 },
 "nbformat": 4,
 "nbformat_minor": 2
}
