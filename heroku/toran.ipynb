{
 "cells": [
  {
   "cell_type": "code",
   "execution_count": 1,
   "metadata": {},
   "outputs": [],
   "source": [
    "from flask import Flask, request, jsonify\n",
    "from flask_cors import CORS\n",
    "from serve import get_model_api  # see part 1.\n",
    "import os\n",
    "from werkzeug import secure_filename"
   ]
  },
  {
   "cell_type": "code",
   "execution_count": 2,
   "metadata": {},
   "outputs": [],
   "source": [
    "import numpy as np\n",
    "import scipy.io.wavfile as wav"
   ]
  },
  {
   "cell_type": "code",
   "execution_count": 3,
   "metadata": {},
   "outputs": [],
   "source": [
    "import json"
   ]
  },
  {
   "cell_type": "code",
   "execution_count": 12,
   "metadata": {},
   "outputs": [
    {
     "name": "stdout",
     "output_type": "stream",
     "text": [
      "end of import\n",
      "load model\n"
     ]
    },
    {
     "name": "stderr",
     "output_type": "stream",
     "text": [
      "D:\\anaconda2\\lib\\site-packages\\sklearn\\base.py:311: UserWarning: Trying to unpickle estimator StandardScaler from version 0.19.0 when using version 0.19.1. This might lead to breaking code or invalid results. Use at your own risk.\n",
      "  UserWarning)\n",
      "D:\\anaconda2\\lib\\site-packages\\sklearn\\base.py:311: UserWarning: Trying to unpickle estimator LabelBinarizer from version 0.19.0 when using version 0.19.1. This might lead to breaking code or invalid results. Use at your own risk.\n",
      "  UserWarning)\n",
      "D:\\anaconda2\\lib\\site-packages\\sklearn\\base.py:311: UserWarning: Trying to unpickle estimator MLPClassifier from version 0.19.0 when using version 0.19.1. This might lead to breaking code or invalid results. Use at your own risk.\n",
      "  UserWarning)\n"
     ]
    }
   ],
   "source": [
    "print(\"end of import\")\n",
    "app = Flask(__name__)\n",
    "CORS(app) # needed for cross-domain requests, allow everything by default\n",
    "model_api = get_model_api()"
   ]
  },
  {
   "cell_type": "code",
   "execution_count": 13,
   "metadata": {},
   "outputs": [
    {
     "name": "stdout",
     "output_type": "stream",
     "text": [
      "end define flask\n"
     ]
    }
   ],
   "source": [
    "print(\"end define flask\")"
   ]
  },
  {
   "cell_type": "code",
   "execution_count": 10,
   "metadata": {},
   "outputs": [],
   "source": [
    "import angus.client\n",
    "try:\n",
    "    from StringIO import StringIO\n",
    "except ImportError:\n",
    "    from io import StringIO\n",
    "from io import BytesIO\n",
    "    \n",
    "conn = angus.client.connect()\n",
    "service = conn.services.get_service('sound_localization', version=1)"
   ]
  },
  {
   "cell_type": "code",
   "execution_count": 7,
   "metadata": {},
   "outputs": [
    {
     "name": "stdout",
     "output_type": "stream",
     "text": [
      "end of define default route \n",
      "end of define main route \n",
      "end\n"
     ]
    }
   ],
   "source": [
    "# default route\n",
    "@app.route('/')\n",
    "def index():\n",
    "    return \"Index API\"\n",
    "\n",
    "# HTTP Errors handlers\n",
    "@app.errorhandler(404)\n",
    "def url_error(e):\n",
    "    return \"\"\"\n",
    "    Wrong URL!\n",
    "    <pre>{}</pre>\"\"\".format(e), 404\n",
    "\n",
    "@app.errorhandler(500)\n",
    "def server_error(e):\n",
    "    return \"\"\"\n",
    "    An internal error occurred: <pre>{}</pre>\n",
    "    See logs for full stacktrace.\n",
    "    \"\"\".format(e), 500\n",
    "\n",
    "print(\"end of define default route \")\n",
    "#UPLOAD_FOLDER='C:/Users/acer/Desktop/app/'\n",
    "UPLOAD_FOLDER='uploads/'\n",
    "# API route\n",
    "@app.route('/api', methods=['POST',\"GET\"])\n",
    "def api():\n",
    "    upload_sound = request.json['sound']\n",
    "    xx=[]\n",
    "    for item in upload_sound:\n",
    "        xx.append(float(item))\n",
    "        print(item)\n",
    "    xx=np.array(xx)\n",
    "    job = service.process({'sound': json.dumps(xx) , 'baseline': 0.1, 'sensitivity': 1.0})\n",
    "    output_data = model_api(xx)\n",
    "    print(output_data)\n",
    "    print(\"hi\")\n",
    "    app.logger.info(\"api_output: \" + str(output_data))\n",
    "    response = jsonify(str(output_data))\n",
    "    return  response\n",
    "\n",
    "\n",
    "\n",
    "print(\"end of define main route \")\n",
    "\n",
    "if __name__ == '__main__':\n",
    "    \n",
    "    #app.run(host='0.0.0.0', debug=True)\n",
    "    app.run( )\n",
    "\n",
    "print(\"end\")"
   ]
  },
  {
   "cell_type": "code",
   "execution_count": 14,
   "metadata": {},
   "outputs": [
    {
     "name": "stdout",
     "output_type": "stream",
     "text": [
      "end of define default route \n",
      "end of define main route \n",
      "end\n"
     ]
    }
   ],
   "source": [
    "# default route\n",
    "@app.route('/')\n",
    "def index():\n",
    "    return \"Index API\"\n",
    "\n",
    "# HTTP Errors handlers\n",
    "@app.errorhandler(404)\n",
    "def url_error(e):\n",
    "    return \"\"\"\n",
    "    Wrong URL!\n",
    "    <pre>{}</pre>\"\"\".format(e), 404\n",
    "\n",
    "@app.errorhandler(500)\n",
    "def server_error(e):\n",
    "    return \"\"\"\n",
    "    An internal error occurred: <pre>{}</pre>\n",
    "    See logs for full stacktrace.\n",
    "    \"\"\".format(e), 500\n",
    "\n",
    "print(\"end of define default route \")\n",
    "#UPLOAD_FOLDER='C:/Users/acer/Desktop/app/'\n",
    "UPLOAD_FOLDER='uploads/'\n",
    "# API route\n",
    "@app.route('/api', methods=['POST'])\n",
    "def api():\n",
    "    upload_sound = request.files['file']\n",
    "    print(upload_sound)\n",
    "    \n",
    "    filename = secure_filename(upload_sound.filename)\n",
    "    \n",
    "    upload_sound.save(os.path.join(UPLOAD_FOLDER, filename))\n",
    "    xd=open(UPLOAD_FOLDER+filename, 'rb')\n",
    "    #xx=[]\n",
    "    #for item in upload_sound:\n",
    "        #xx.append(float(item))\n",
    "        #print(item)\n",
    "    #xx=np.array(xx)\n",
    "    job = service.process({'sound':xd  , 'baseline': 0.1, 'sensitivity': 1.0})\n",
    "    \n",
    "    output_data = model_api(UPLOAD_FOLDER+filename)\n",
    "    print(output_data)\n",
    "    print(\"hi\")\n",
    "    app.logger.info(\"api_output: \" + str(output_data))\n",
    "    response = jsonify(str(output_data))\n",
    "    out={\n",
    "        \"first\":str(output_data),\n",
    "        \"second\":str(job.result['sources'])\n",
    "    }\n",
    "    return   jsonify(out)\n",
    "\n",
    "\n",
    "\n",
    "print(\"end of define main route \")\n",
    "\n",
    "if __name__ == '__main__':\n",
    "    \n",
    "    #app.run(host='0.0.0.0', debug=True)\n",
    "    app.run( )\n",
    "\n",
    "print(\"end\")"
   ]
  },
  {
   "cell_type": "code",
   "execution_count": null,
   "metadata": {},
   "outputs": [],
   "source": []
  }
 ],
 "metadata": {
  "kernelspec": {
   "display_name": "Python 3",
   "language": "python",
   "name": "python3"
  },
  "language_info": {
   "codemirror_mode": {
    "name": "ipython",
    "version": 3
   },
   "file_extension": ".py",
   "mimetype": "text/x-python",
   "name": "python",
   "nbconvert_exporter": "python",
   "pygments_lexer": "ipython3",
   "version": "3.5.5"
  }
 },
 "nbformat": 4,
 "nbformat_minor": 2
}
