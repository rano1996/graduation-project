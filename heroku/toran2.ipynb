{
 "cells": [
  {
   "cell_type": "code",
   "execution_count": 2,
   "metadata": {},
   "outputs": [],
   "source": [
    "from flask import Flask, request, jsonify\n",
    "from flask_cors import CORS\n",
    "from serve import get_model_api  # see part 1.\n",
    "import os\n",
    "from werkzeug import secure_filename"
   ]
  },
  {
   "cell_type": "code",
   "execution_count": 35,
   "metadata": {},
   "outputs": [],
   "source": [
    "import numpy as np\n",
    "import scipy.io.wavfile as wav\n",
    "import wave"
   ]
  },
  {
   "cell_type": "code",
   "execution_count": 36,
   "metadata": {},
   "outputs": [],
   "source": [
    "import json\n"
   ]
  },
  {
   "cell_type": "code",
   "execution_count": 53,
   "metadata": {},
   "outputs": [
    {
     "name": "stdout",
     "output_type": "stream",
     "text": [
      "end of import\n",
      "load model\n"
     ]
    },
    {
     "name": "stderr",
     "output_type": "stream",
     "text": [
      "D:\\anaconda2\\lib\\site-packages\\sklearn\\base.py:311: UserWarning: Trying to unpickle estimator StandardScaler from version 0.19.0 when using version 0.19.1. This might lead to breaking code or invalid results. Use at your own risk.\n",
      "  UserWarning)\n",
      "D:\\anaconda2\\lib\\site-packages\\sklearn\\base.py:311: UserWarning: Trying to unpickle estimator LabelBinarizer from version 0.19.0 when using version 0.19.1. This might lead to breaking code or invalid results. Use at your own risk.\n",
      "  UserWarning)\n",
      "D:\\anaconda2\\lib\\site-packages\\sklearn\\base.py:311: UserWarning: Trying to unpickle estimator MLPClassifier from version 0.19.0 when using version 0.19.1. This might lead to breaking code or invalid results. Use at your own risk.\n",
      "  UserWarning)\n"
     ]
    }
   ],
   "source": [
    "print(\"end of import\")\n",
    "app = Flask(__name__)\n",
    "CORS(app) # needed for cross-domain requests, allow everything by default\n",
    "model_api = get_model_api()"
   ]
  },
  {
   "cell_type": "code",
   "execution_count": 54,
   "metadata": {},
   "outputs": [
    {
     "name": "stdout",
     "output_type": "stream",
     "text": [
      "end define flask\n"
     ]
    }
   ],
   "source": [
    "print(\"end define flask\")"
   ]
  },
  {
   "cell_type": "code",
   "execution_count": null,
   "metadata": {},
   "outputs": [],
   "source": []
  },
  {
   "cell_type": "code",
   "execution_count": 55,
   "metadata": {},
   "outputs": [
    {
     "name": "stdout",
     "output_type": "stream",
     "text": [
      "https://gate.angus.ai/services/sound_localization/1\n"
     ]
    }
   ],
   "source": [
    "import angus.client\n",
    "#import requests\n",
    "user=\"1c2cee9e-2615-11e8-b451-0242ac120002\"\n",
    "password=\"ff72277e-f9a4-4730-b217-d0daf1240a86\"\n",
    "#this line for heroku upload file   \n",
    "#conn = angus.client.connect(url=\"https://gate.angus.ai\",client_id=\"1c2cee9e-2615-11e8-b451-0242ac120002\",access_token=\"ff72277e-f9a4-4730-b217-d0daf1240a86\")\n",
    "#this line for local tests\n",
    "conn=angus.client.connect()\n",
    "service = conn.services.get_service('sound_localization', version=1)\n",
    "print(service.endpoint)"
   ]
  },
  {
   "cell_type": "code",
   "execution_count": null,
   "metadata": {},
   "outputs": [
    {
     "name": "stderr",
     "output_type": "stream",
     "text": [
      " * Running on http://127.0.0.1:5000/ (Press CTRL+C to quit)\n",
      "INFO:werkzeug: * Running on http://127.0.0.1:5000/ (Press CTRL+C to quit)\n"
     ]
    },
    {
     "name": "stdout",
     "output_type": "stream",
     "text": [
      "end of define default route \n",
      "end of define main route \n"
     ]
    },
    {
     "name": "stderr",
     "output_type": "stream",
     "text": [
      "127.0.0.1 - - [08/Jun/2018 02:01:17] \"\u001b[37mGET / HTTP/1.1\u001b[0m\" 200 -\n",
      "INFO:werkzeug:127.0.0.1 - - [08/Jun/2018 02:01:17] \"\u001b[37mGET / HTTP/1.1\u001b[0m\" 200 -\n"
     ]
    },
    {
     "name": "stdout",
     "output_type": "stream",
     "text": [
      "()\n",
      "2\n",
      "mk\n",
      "dodo\n",
      "[ 2.1886592e-06  7.4137114e-07 -2.6022670e-07 ...  5.2108602e-03\n",
      "  4.1074902e-03  3.1926101e-03]\n",
      "soooooo\n"
     ]
    },
    {
     "name": "stderr",
     "output_type": "stream",
     "text": [
      "127.0.0.1 - - [08/Jun/2018 02:03:38] \"\u001b[37mPOST /api HTTP/1.1\u001b[0m\" 200 -\n",
      "INFO:werkzeug:127.0.0.1 - - [08/Jun/2018 02:03:38] \"\u001b[37mPOST /api HTTP/1.1\u001b[0m\" 200 -\n"
     ]
    },
    {
     "name": "stdout",
     "output_type": "stream",
     "text": [
      "[3 3 3 3 3 3 3 3 3 3 3 3 3 3 3 3 3 3 3 3 3 3 3 3 3 3 3 3 3 3 5 5 5 5 5 5 5\n",
      " 5 5 5 5 3 3 3 2 2 3 3 8 2 3 3 3 3 3 3 2 2 8 8 3 8 9 9 9 9 8 8 8 2 3 3 3 3\n",
      " 8 8 3 3 3 3 3 8 8 8 9 8 8 8 8 8 8 8 8 8 8 8 8 8 2 8 8 2 2 3 3 8 8 8 8 9 8\n",
      " 8 8 3 3 8 8 8 8 8 8 8 8 8 8 8 8 8 8 8 8 8 8 8 8 2 3 3 3 3 3 3 3 5 5 3 3 2\n",
      " 3 2 3 8 2 9 8 8 9 9 8 8 8 9 8 8 3 8 2 2 2 8 9 9 9 3 8 8 8 8 8 2 8 8 8 3 9\n",
      " 2 9 8 8 8 8 8 8 8 8 8 8 8 9 9 9 9 9 9 2 2 2 3 3 2 3 3 2 2 2 2 3 3 2 2 4 5\n",
      " 2 3 3 2 2 4 2 3 3 2 2 3 2 2 2 9 2 2 9 8 2 2 2 9 2 2 2 8 8 2 2 5 5 4 5 5 5\n",
      " 5 3 8 8 8 8 8 8 8 8 3 2 2 2 2 2 2 2 2 3 8 2 2 2 2 9 2 3 3 3 2 2 3 3 2 3 5\n",
      " 3 2 2 2 3 2 8 9 9 9 2 9 2 8 9 8 8 8 8 8 9 2 9 9 8 8 8 8 8 8 8 8 8 9 9 9 9\n",
      " 9 9 2 2 9 2 2 2 5 3 4 4 2 4 3 4 5 4 4 4 3 4 4 2 2 2 2 2 3 2 9 9 2 2 2 2 2\n",
      " 2 2 2 2 2 2 2 2 2 4 2 4 4 4 2 2 9 9 9 9 9 2 2 2 2 2 2 2 2 2 2 2 2 2 2 2 2\n",
      " 2 4 2 2 3 3 2 2 2 2 3 3 3 3 3 3 2 2 4 2 3 2 3 3 3 3 3 2 5 3 3 3 3 2 3 2 3\n",
      " 2 2 2 2 2 2 3 2 3 2 3 3 2 2 2 2 2 2 2 2 2 2 2 5 5 3 3 2 2 8 9 3 3 8 3 9 9\n",
      " 9 9 9 9 8 2 3 3 3 3 2 3 3 2 3 3 2 2 3 5 4 2 2 3 3 3 3 5 3 4 2 2 3 3 2 2 2\n",
      " 2 2 2 3 3 3 4 4 5 2 2 2 3 3 3 3 2 2 2 2 2 2 4 2 2 2 3 3 3 3 3 3 3 3 3 3 8\n",
      " 8 8 2 3 3 2 3 4 3 2 3 2 3 3 3 3 3 3 3 3 3 3 3 3 3 3 2 2 2 2 2 4 3 3 3 3 3\n",
      " 3 3 3 3 4 5 3 3 3 3 3 3 3 3 3 3 2 2 3 3 3 3 8 9 9 9 9 3 2 2 4 2 2 2 9 9 9\n",
      " 9 9 2 9 2 2 3 3 8 2 2 2 8 2 2 2 3 3 3 3 2 3 3 3 3 3 3 3 2 3 3 3 3 3 3 3 3\n",
      " 3 3 3 3 3 3 3 3 3 3 3 3 3 3 3 3 3 3 3 3 3 3 3 3 3 3 3 3 3 3 3 8 8 8 8 3 3\n",
      " 3 2 2 3 3 2 3 3 3 4 2 3 2 2 2 3 3 3 3 3 3 3 3 3 3 3 3 3 2 3 3 3 3 3 8 8 3\n",
      " 3 3 3 3 3 2 3 3 3 2 2 2 4 2 4 2 3 2 9 2 2 2 3 3 3 3 3 3 3 3 4 4 3 3 2 2 4\n",
      " 3 3 5 2 2 2 2 2 3 3 2 2 4 2 2 2 2 2 4 4 3 2 2 2 2 3 2 3 2 2 5 3 3 3 2 2 3\n",
      " 3 2 2 4 2 4 3 3 2 3 2 2 2 2 3 3 2 2 2 2 3 2 2 3 3 3 3 2 3 3 3 3 3 3 2 2 3\n",
      " 2 2 3 3 3 2 2 3 8 2 2 2 9 3 2 3 2 4 4 4 4 4 4 5 2 3 3 3 3 3 3 3 3 3 3 3 3\n",
      " 3 3 3 3]\n",
      "hi\n"
     ]
    }
   ],
   "source": [
    "# default route\n",
    "@app.route('/')\n",
    "def index():\n",
    "    return \"Index API\"\n",
    "\n",
    "# HTTP Errors handlers\n",
    "@app.errorhandler(404)\n",
    "def url_error(e):\n",
    "    return \"\"\"\n",
    "    Wrong URL!\n",
    "    <pre>{}</pre>\"\"\".format(e), 404\n",
    "\n",
    "@app.errorhandler(500)\n",
    "def server_error(e):\n",
    "    return \"\"\"\n",
    "    An internal error occurred: <pre>{}</pre>\n",
    "    See logs for full stacktrace.\n",
    "    \"\"\".format(e), 500\n",
    "\n",
    "print(\"end of define default route \")\n",
    "#UPLOAD_FOLDER='C:/Users/acer/Desktop/app/'\n",
    "UPLOAD_FOLDER='uploads/'\n",
    "# API route\n",
    "@app.route('/api', methods=['POST'])\n",
    "def api():\n",
    "    upload_sound = request.files['file']\n",
    "    print(np.array(upload_sound).shape)\n",
    "    \n",
    "    filename = secure_filename(upload_sound.filename)\n",
    "    \n",
    "    #upload_sound.save(os.path.join(UPLOAD_FOLDER, filename))\n",
    "    upload_sound.save(UPLOAD_FOLDER+ filename)\n",
    "    xd=open(UPLOAD_FOLDER+filename, 'rb')\n",
    "    xe=wave.open(UPLOAD_FOLDER+filename, 'r')\n",
    "    nn=xe.getnchannels()\n",
    "    print(xe.getnchannels())\n",
    "    if(nn==2):\n",
    "        \n",
    "        #xx=[]\n",
    "        #for item in upload_sound:\n",
    "            #xx.append(float(item))\n",
    "            #print(item)\n",
    "            #xx=np.array(xx)\n",
    "        job = service.process({'sound':xd  , 'baseline': 0.1, 'sensitivity': 1.0})\n",
    "    \n",
    "        output_data = model_api(UPLOAD_FOLDER+filename)\n",
    "        print(output_data)\n",
    "        print(\"hi\")\n",
    "        app.logger.info(\"api_output: \" + str(output_data))\n",
    "        response = jsonify(str(output_data))\n",
    "        out={\n",
    "            \"first\":str(output_data),\n",
    "            \"second\":str(job.result['sources'])\n",
    "            }\n",
    "        return   jsonify(out)\n",
    "    else:\n",
    "        output_data = model_api(UPLOAD_FOLDER+filename)\n",
    "        app.logger.info(\"api_output: \" + str(output_data))\n",
    "        response = jsonify(str(output_data))\n",
    "        out={\n",
    "            \"first\":str(output_data)\n",
    "            }\n",
    "        return   jsonify(out)\n",
    "        \n",
    "        \n",
    "\n",
    "\n",
    "\n",
    "print(\"end of define main route \")\n",
    "\n",
    "if __name__ == '__main__':\n",
    "    \n",
    "    #app.run(host='0.0.0.0', debug=True)\n",
    "    app.run( )\n",
    "\n",
    "print(\"end\")"
   ]
  },
  {
   "cell_type": "code",
   "execution_count": null,
   "metadata": {},
   "outputs": [],
   "source": []
  }
 ],
 "metadata": {
  "kernelspec": {
   "display_name": "Python 3",
   "language": "python",
   "name": "python3"
  },
  "language_info": {
   "codemirror_mode": {
    "name": "ipython",
    "version": 3
   },
   "file_extension": ".py",
   "mimetype": "text/x-python",
   "name": "python",
   "nbconvert_exporter": "python",
   "pygments_lexer": "ipython3",
   "version": "3.5.5"
  }
 },
 "nbformat": 4,
 "nbformat_minor": 2
}
